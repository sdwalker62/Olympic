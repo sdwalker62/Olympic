{
 "cells": [
  {
   "cell_type": "code",
   "execution_count": 1,
   "id": "initial_id",
   "metadata": {
    "collapsed": true,
    "ExecuteTime": {
     "end_time": "2023-12-21T16:40:09.749481400Z",
     "start_time": "2023-12-21T16:40:09.256968800Z"
    }
   },
   "outputs": [],
   "source": [
    "import jax\n",
    "import jax.numpy as jnp"
   ]
  },
  {
   "cell_type": "markdown",
   "source": [
    "FAQ:\n",
    "    1. If you receive an `ptxas` error it is likely because your cuda is out of date. To update your version of cude run:\n",
    "    `conda install cuda -c nvidia`"
   ],
   "metadata": {
    "collapsed": false
   },
   "id": "174fd66b1cdf3ad6"
  },
  {
   "cell_type": "code",
   "execution_count": 3,
   "outputs": [
    {
     "name": "stdout",
     "output_type": "stream",
     "text": [
      "[0 1 2 3 4 5 6 7 8 9]\n"
     ]
    }
   ],
   "source": [
    "x = jnp.arange(10)\n",
    "print(x)"
   ],
   "metadata": {
    "collapsed": false,
    "ExecuteTime": {
     "end_time": "2023-12-21T16:29:08.758087600Z",
     "start_time": "2023-12-21T16:29:08.723460200Z"
    }
   },
   "id": "67344b02d423eecc"
  },
  {
   "cell_type": "code",
   "execution_count": 4,
   "outputs": [
    {
     "data": {
      "text/plain": "Array([0, 1, 2, 3, 4, 5, 6, 7, 8, 9], dtype=int32)"
     },
     "execution_count": 4,
     "metadata": {},
     "output_type": "execute_result"
    }
   ],
   "source": [
    "x"
   ],
   "metadata": {
    "collapsed": false,
    "ExecuteTime": {
     "end_time": "2023-12-21T16:29:35.250120200Z",
     "start_time": "2023-12-21T16:29:35.194626600Z"
    }
   },
   "id": "e13810a0432afb35"
  },
  {
   "cell_type": "code",
   "execution_count": 5,
   "outputs": [
    {
     "name": "stdout",
     "output_type": "stream",
     "text": [
      "203 µs ± 6.35 µs per loop (mean ± std. dev. of 7 runs, 1,000 loops each)\n"
     ]
    }
   ],
   "source": [
    "long_vector = jnp.arange(int(1e7))\n",
    "%timeit jnp.dot(long_vector, long_vector).block_until_ready()"
   ],
   "metadata": {
    "collapsed": false,
    "ExecuteTime": {
     "end_time": "2023-12-21T16:30:55.083486400Z",
     "start_time": "2023-12-21T16:30:52.915300600Z"
    }
   },
   "id": "2035f9a016155503"
  },
  {
   "cell_type": "code",
   "execution_count": 6,
   "outputs": [],
   "source": [
    "def sum_of_squares(x):\n",
    "    return jnp.sum(x**2)"
   ],
   "metadata": {
    "collapsed": false,
    "ExecuteTime": {
     "end_time": "2023-12-21T16:48:06.170981500Z",
     "start_time": "2023-12-21T16:48:06.144041300Z"
    }
   },
   "id": "1625588f1eff01b6"
  },
  {
   "cell_type": "code",
   "execution_count": 7,
   "outputs": [],
   "source": [
    "sum_of_squares_dx = jax.grad(sum_of_squares)"
   ],
   "metadata": {
    "collapsed": false,
    "ExecuteTime": {
     "end_time": "2023-12-21T16:48:06.468242900Z",
     "start_time": "2023-12-21T16:48:06.416606100Z"
    }
   },
   "id": "903002ba08a0e3a0"
  },
  {
   "cell_type": "markdown",
   "source": [
    "### Facts about grad\n",
    "\n",
    "1. `jax.grad` computes that gradient, `jax.grad(f)(x)` computes the gradient at `x`. \n",
    "2. `jax.grad` computes the gradient with respect to the first variable in the function signature, i.e. for `f(x, y)`, the function `jax.grad(f)` computes the gradient with respect to `x` but not `y`."
   ],
   "metadata": {
    "collapsed": false
   },
   "id": "36161f88813d2139"
  },
  {
   "cell_type": "code",
   "execution_count": 8,
   "outputs": [],
   "source": [
    "x = jnp.asarray([1.0, 2.0, 3.0, 4.0])"
   ],
   "metadata": {
    "collapsed": false,
    "ExecuteTime": {
     "end_time": "2023-12-21T16:48:07.915955500Z",
     "start_time": "2023-12-21T16:48:07.862844300Z"
    }
   },
   "id": "690b6698e22e1af6"
  },
  {
   "cell_type": "code",
   "execution_count": 9,
   "outputs": [
    {
     "name": "stdout",
     "output_type": "stream",
     "text": [
      "30.0\n"
     ]
    }
   ],
   "source": [
    "print(sum_of_squares(x))"
   ],
   "metadata": {
    "collapsed": false,
    "ExecuteTime": {
     "end_time": "2023-12-21T16:48:33.531770400Z",
     "start_time": "2023-12-21T16:48:08.279227400Z"
    }
   },
   "id": "f5d89d6f37278e60"
  },
  {
   "cell_type": "code",
   "execution_count": 10,
   "outputs": [
    {
     "name": "stdout",
     "output_type": "stream",
     "text": [
      "[2. 4. 6. 8.]\n"
     ]
    }
   ],
   "source": [
    "print(sum_of_squares_dx(x))"
   ],
   "metadata": {
    "collapsed": false,
    "ExecuteTime": {
     "end_time": "2023-12-21T16:48:33.720964300Z",
     "start_time": "2023-12-21T16:48:33.528269400Z"
    }
   },
   "id": "afd3ee8a2650b21a"
  },
  {
   "cell_type": "code",
   "execution_count": 11,
   "outputs": [],
   "source": [
    "def sum_squared_error(x, y):\n",
    "    return jnp.sum((x-y)**2)\n",
    "\n",
    "sum_squared_error_dx = jax.grad(sum_squared_error)"
   ],
   "metadata": {
    "collapsed": false,
    "ExecuteTime": {
     "end_time": "2023-12-21T16:48:33.721462800Z",
     "start_time": "2023-12-21T16:48:33.716464700Z"
    }
   },
   "id": "a1dc025ea183805e"
  },
  {
   "cell_type": "code",
   "execution_count": 12,
   "outputs": [
    {
     "name": "stdout",
     "output_type": "stream",
     "text": [
      "[-0.20000005 -0.19999981 -0.19999981 -0.19999981]\n"
     ]
    }
   ],
   "source": [
    "y = jnp.asarray([1.1, 2.1, 3.1, 4.1])\n",
    "print(sum_squared_error_dx(x, y))"
   ],
   "metadata": {
    "collapsed": false,
    "ExecuteTime": {
     "end_time": "2023-12-21T16:48:33.799327300Z",
     "start_time": "2023-12-21T16:48:33.721462800Z"
    }
   },
   "id": "9c043d65df81895d"
  },
  {
   "cell_type": "code",
   "execution_count": 13,
   "outputs": [
    {
     "data": {
      "text/plain": "(Array([-0.20000005, -0.19999981, -0.19999981, -0.19999981], dtype=float32),\n Array([0.20000005, 0.19999981, 0.19999981, 0.19999981], dtype=float32))"
     },
     "execution_count": 13,
     "metadata": {},
     "output_type": "execute_result"
    }
   ],
   "source": [
    "jax.grad(sum_squared_error, argnums=(0, 1))(x, y)  # Find the gradient wrt both x & y"
   ],
   "metadata": {
    "collapsed": false,
    "ExecuteTime": {
     "end_time": "2023-12-21T16:49:52.438282900Z",
     "start_time": "2023-12-21T16:49:52.361591Z"
    }
   },
   "id": "77bc7c406a2224fc"
  },
  {
   "cell_type": "code",
   "execution_count": 14,
   "outputs": [
    {
     "data": {
      "text/plain": "(Array(0.03999995, dtype=float32),\n Array([-0.20000005, -0.19999981, -0.19999981, -0.19999981], dtype=float32))"
     },
     "execution_count": 14,
     "metadata": {},
     "output_type": "execute_result"
    }
   ],
   "source": [
    "jax.value_and_grad(sum_squared_error)(x, y)"
   ],
   "metadata": {
    "collapsed": false,
    "ExecuteTime": {
     "end_time": "2023-12-21T16:51:27.282309300Z",
     "start_time": "2023-12-21T16:51:27.233967300Z"
    }
   },
   "id": "944f501dec3746b9"
  },
  {
   "cell_type": "code",
   "execution_count": 15,
   "outputs": [],
   "source": [
    "def squared_error_with_aux(x, y):\n",
    "    return sum_squared_error(x, y), x-y"
   ],
   "metadata": {
    "collapsed": false,
    "ExecuteTime": {
     "end_time": "2023-12-21T16:53:01.271104700Z",
     "start_time": "2023-12-21T16:53:01.227729500Z"
    }
   },
   "id": "f4f4e1f846b99810"
  },
  {
   "cell_type": "code",
   "execution_count": 16,
   "outputs": [
    {
     "ename": "TypeError",
     "evalue": "Gradient only defined for scalar-output functions. Output was (Array(0.03999995, dtype=float32), Array([-0.10000002, -0.0999999 , -0.0999999 , -0.0999999 ], dtype=float32)).",
     "output_type": "error",
     "traceback": [
      "\u001B[0;31m---------------------------------------------------------------------------\u001B[0m",
      "\u001B[0;31mTypeError\u001B[0m                                 Traceback (most recent call last)",
      "    \u001B[0;31m[... skipping hidden 1 frame]\u001B[0m\n",
      "File \u001B[0;32m~/mambaforge/envs/olympic/lib/python3.10/site-packages/jax/_src/core.py:1498\u001B[0m, in \u001B[0;36mget_aval\u001B[0;34m(x)\u001B[0m\n\u001B[1;32m   1497\u001B[0m \u001B[38;5;28;01melse\u001B[39;00m:\n\u001B[0;32m-> 1498\u001B[0m   \u001B[38;5;28;01mreturn\u001B[39;00m \u001B[43mconcrete_aval\u001B[49m\u001B[43m(\u001B[49m\u001B[43mx\u001B[49m\u001B[43m)\u001B[49m\n",
      "File \u001B[0;32m~/mambaforge/envs/olympic/lib/python3.10/site-packages/jax/_src/core.py:1490\u001B[0m, in \u001B[0;36mconcrete_aval\u001B[0;34m(x)\u001B[0m\n\u001B[1;32m   1489\u001B[0m   \u001B[38;5;28;01mreturn\u001B[39;00m concrete_aval(x\u001B[38;5;241m.\u001B[39m__jax_array__())\n\u001B[0;32m-> 1490\u001B[0m \u001B[38;5;28;01mraise\u001B[39;00m \u001B[38;5;167;01mTypeError\u001B[39;00m(\u001B[38;5;124mf\u001B[39m\u001B[38;5;124m\"\u001B[39m\u001B[38;5;124mValue \u001B[39m\u001B[38;5;132;01m{\u001B[39;00mx\u001B[38;5;132;01m!r}\u001B[39;00m\u001B[38;5;124m with type \u001B[39m\u001B[38;5;132;01m{\u001B[39;00m\u001B[38;5;28mtype\u001B[39m(x)\u001B[38;5;132;01m}\u001B[39;00m\u001B[38;5;124m is not a valid JAX \u001B[39m\u001B[38;5;124m\"\u001B[39m\n\u001B[1;32m   1491\u001B[0m                  \u001B[38;5;124m\"\u001B[39m\u001B[38;5;124mtype\u001B[39m\u001B[38;5;124m\"\u001B[39m)\n",
      "\u001B[0;31mTypeError\u001B[0m: Value (Array(0.03999995, dtype=float32), Array([-0.10000002, -0.0999999 , -0.0999999 , -0.0999999 ], dtype=float32)) with type <class 'tuple'> is not a valid JAX type",
      "\nThe above exception was the direct cause of the following exception:\n",
      "\u001B[0;31mTypeError\u001B[0m                                 Traceback (most recent call last)",
      "Cell \u001B[0;32mIn[16], line 1\u001B[0m\n\u001B[0;32m----> 1\u001B[0m \u001B[43mjax\u001B[49m\u001B[38;5;241;43m.\u001B[39;49m\u001B[43mgrad\u001B[49m\u001B[43m(\u001B[49m\u001B[43msquared_error_with_aux\u001B[49m\u001B[43m)\u001B[49m\u001B[43m(\u001B[49m\u001B[43mx\u001B[49m\u001B[43m,\u001B[49m\u001B[43m \u001B[49m\u001B[43my\u001B[49m\u001B[43m)\u001B[49m\n",
      "    \u001B[0;31m[... skipping hidden 4 frame]\u001B[0m\n",
      "File \u001B[0;32m~/mambaforge/envs/olympic/lib/python3.10/site-packages/jax/_src/api.py:755\u001B[0m, in \u001B[0;36m_check_scalar\u001B[0;34m(x)\u001B[0m\n\u001B[1;32m    753\u001B[0m   aval \u001B[38;5;241m=\u001B[39m core\u001B[38;5;241m.\u001B[39mget_aval(x)\n\u001B[1;32m    754\u001B[0m \u001B[38;5;28;01mexcept\u001B[39;00m \u001B[38;5;167;01mTypeError\u001B[39;00m \u001B[38;5;28;01mas\u001B[39;00m e:\n\u001B[0;32m--> 755\u001B[0m   \u001B[38;5;28;01mraise\u001B[39;00m \u001B[38;5;167;01mTypeError\u001B[39;00m(msg(\u001B[38;5;124mf\u001B[39m\u001B[38;5;124m\"\u001B[39m\u001B[38;5;124mwas \u001B[39m\u001B[38;5;132;01m{\u001B[39;00mx\u001B[38;5;132;01m}\u001B[39;00m\u001B[38;5;124m\"\u001B[39m)) \u001B[38;5;28;01mfrom\u001B[39;00m \u001B[38;5;21;01me\u001B[39;00m\n\u001B[1;32m    756\u001B[0m \u001B[38;5;28;01melse\u001B[39;00m:\n\u001B[1;32m    757\u001B[0m   \u001B[38;5;28;01mif\u001B[39;00m \u001B[38;5;28misinstance\u001B[39m(aval, ShapedArray):\n",
      "\u001B[0;31mTypeError\u001B[0m: Gradient only defined for scalar-output functions. Output was (Array(0.03999995, dtype=float32), Array([-0.10000002, -0.0999999 , -0.0999999 , -0.0999999 ], dtype=float32))."
     ]
    }
   ],
   "source": [
    "jax.grad(squared_error_with_aux)(x, y)"
   ],
   "metadata": {
    "collapsed": false,
    "ExecuteTime": {
     "end_time": "2023-12-21T16:53:19.167976500Z",
     "start_time": "2023-12-21T16:53:18.711387300Z"
    }
   },
   "id": "10794cb09e69435"
  },
  {
   "cell_type": "code",
   "execution_count": 17,
   "outputs": [
    {
     "data": {
      "text/plain": "(Array([-0.20000005, -0.19999981, -0.19999981, -0.19999981], dtype=float32),\n Array([-0.10000002, -0.0999999 , -0.0999999 , -0.0999999 ], dtype=float32))"
     },
     "execution_count": 17,
     "metadata": {},
     "output_type": "execute_result"
    }
   ],
   "source": [
    "jax.grad(squared_error_with_aux, has_aux=True)(x, y)"
   ],
   "metadata": {
    "collapsed": false,
    "ExecuteTime": {
     "end_time": "2023-12-21T16:53:57.103925900Z",
     "start_time": "2023-12-21T16:53:57.045374700Z"
    }
   },
   "id": "b87a0a0af6fffcc1"
  },
  {
   "cell_type": "code",
   "execution_count": 19,
   "outputs": [],
   "source": [
    "import numpy as np\n",
    "import matplotlib.pyplot as plt"
   ],
   "metadata": {
    "collapsed": false,
    "ExecuteTime": {
     "end_time": "2023-12-21T16:57:52.149397500Z",
     "start_time": "2023-12-21T16:57:51.840550100Z"
    }
   },
   "id": "ef8171976fb83ff4"
  },
  {
   "cell_type": "code",
   "execution_count": 20,
   "outputs": [
    {
     "data": {
      "text/plain": "<matplotlib.collections.PathCollection at 0x7f241c02dde0>"
     },
     "execution_count": 20,
     "metadata": {},
     "output_type": "execute_result"
    },
    {
     "data": {
      "text/plain": "<Figure size 640x480 with 1 Axes>",
      "image/png": "[encoded data removed]"
     },
     "metadata": {},
     "output_type": "display_data"
    }
   ],
   "source": [
    "xs = np.random.normal(size=(100,))\n",
    "noise = np.random.normal(scale=0.1, size=(100,))\n",
    "ys = xs * 3 - 1 + noise \n",
    "\n",
    "plt.scatter(xs, ys)"
   ],
   "metadata": {
    "collapsed": false,
    "ExecuteTime": {
     "end_time": "2023-12-21T16:58:41.324080500Z",
     "start_time": "2023-12-21T16:58:41.090892Z"
    }
   },
   "id": "97492abdc285fed7"
  },
  {
   "cell_type": "code",
   "execution_count": 21,
   "outputs": [],
   "source": [
    "def model(theta, x):\n",
    "    \"\"\"Computes wx + b on a batch of input x.\"\"\"\n",
    "    w, b = theta\n",
    "    return w * x + b"
   ],
   "metadata": {
    "collapsed": false,
    "ExecuteTime": {
     "end_time": "2023-12-21T16:59:55.378185800Z",
     "start_time": "2023-12-21T16:59:55.298579300Z"
    }
   },
   "id": "79438a6740fc64ee"
  },
  {
   "cell_type": "code",
   "execution_count": 22,
   "outputs": [],
   "source": [
    "def loss_fn(theta, x, y):\n",
    "    prediction = model(theta, x)\n",
    "    return jnp.mean((prediction-y)**2)"
   ],
   "metadata": {
    "collapsed": false,
    "ExecuteTime": {
     "end_time": "2023-12-21T17:00:26.633331900Z",
     "start_time": "2023-12-21T17:00:26.575234Z"
    }
   },
   "id": "a01a8cb79680aece"
  },
  {
   "cell_type": "code",
   "execution_count": 24,
   "outputs": [],
   "source": [
    "@jax.jit\n",
    "def update(theta, x, y, lr=0.1):\n",
    "    return theta - lr * jax.grad(loss_fn)(theta, x, y)"
   ],
   "metadata": {
    "collapsed": false,
    "ExecuteTime": {
     "end_time": "2023-12-21T17:01:42.881794100Z",
     "start_time": "2023-12-21T17:01:42.818851100Z"
    }
   },
   "id": "fe402cc6cdd36ec4"
  },
  {
   "cell_type": "code",
   "execution_count": 25,
   "outputs": [
    {
     "name": "stdout",
     "output_type": "stream",
     "text": [
      "w: 2.97, b: -1.00\n"
     ]
    },
    {
     "data": {
      "text/plain": "<Figure size 640x480 with 1 Axes>",
      "image/png": "[encoded data removed]"
     },
     "metadata": {},
     "output_type": "display_data"
    }
   ],
   "source": [
    "theta = jnp.array([1., 1.])\n",
    "\n",
    "for _ in range(1000):\n",
    "    theta = update(theta, xs, ys)\n",
    "    \n",
    "plt.scatter(xs, ys)\n",
    "plt.plot(xs, model(theta, xs))\n",
    "w, b = theta\n",
    "print(f\"w: {w:<.2f}, b: {b:<.2f}\")"
   ],
   "metadata": {
    "collapsed": false,
    "ExecuteTime": {
     "end_time": "2023-12-21T17:03:16.142950100Z",
     "start_time": "2023-12-21T17:03:14.610444600Z"
    }
   },
   "id": "c99079a613124f6a"
  },
  {
   "cell_type": "code",
   "execution_count": null,
   "outputs": [],
   "source": [],
   "metadata": {
    "collapsed": false
   },
   "id": "554afb4036da520e"
  }
 ],
 "metadata": {
  "kernelspec": {
   "display_name": "Python 3",
   "language": "python",
   "name": "python3"
  },
  "language_info": {
   "codemirror_mode": {
    "name": "ipython",
    "version": 2
   },
   "file_extension": ".py",
   "mimetype": "text/x-python",
   "name": "python",
   "nbconvert_exporter": "python",
   "pygments_lexer": "ipython2",
   "version": "2.7.6"
  }
 },
 "nbformat": 4,
 "nbformat_minor": 5
}
