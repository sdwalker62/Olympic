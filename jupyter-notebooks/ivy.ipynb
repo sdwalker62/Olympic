{
 "cells": [
  {
   "cell_type": "code",
   "execution_count": 16,
   "id": "initial_id",
   "metadata": {
    "collapsed": true,
    "ExecuteTime": {
     "end_time": "2023-12-19T20:45:25.682238200Z",
     "start_time": "2023-12-19T20:45:25.675236600Z"
    }
   },
   "outputs": [],
   "source": [
    "import ivy"
   ]
  },
  {
   "cell_type": "markdown",
   "source": [
    "# Write Ivy Code"
   ],
   "metadata": {
    "collapsed": false
   },
   "id": "b6c3351bdce1aa3b"
  },
  {
   "cell_type": "markdown",
   "source": [
    "## Data Structures"
   ],
   "metadata": {
    "collapsed": false
   },
   "id": "142f40628dbf03a7"
  },
  {
   "cell_type": "code",
   "execution_count": 2,
   "outputs": [],
   "source": [
    "%%capture\n",
    "ivy.set_backend(\"torch\")"
   ],
   "metadata": {
    "collapsed": false,
    "ExecuteTime": {
     "end_time": "2023-12-19T20:38:09.898067900Z",
     "start_time": "2023-12-19T20:38:08.432617400Z"
    }
   },
   "id": "e07225e0ecf29bff"
  },
  {
   "cell_type": "code",
   "execution_count": 3,
   "outputs": [
    {
     "name": "stdout",
     "output_type": "stream",
     "text": [
      "<class 'ivy.data_classes.array.array.Array'>\n"
     ]
    }
   ],
   "source": [
    "x = ivy.array([1, 2, 3])\n",
    "print(type(x))"
   ],
   "metadata": {
    "collapsed": false,
    "ExecuteTime": {
     "end_time": "2023-12-19T20:38:10.609392700Z",
     "start_time": "2023-12-19T20:38:10.552586Z"
    }
   },
   "id": "6174a98f66aca4fc"
  },
  {
   "cell_type": "code",
   "execution_count": 4,
   "outputs": [
    {
     "name": "stdout",
     "output_type": "stream",
     "text": [
      "<class 'torch.Tensor'>\n"
     ]
    }
   ],
   "source": [
    "x = ivy.native_array([1, 2, 3])\n",
    "print(type(x))"
   ],
   "metadata": {
    "collapsed": false,
    "ExecuteTime": {
     "end_time": "2023-12-19T20:38:11.558032200Z",
     "start_time": "2023-12-19T20:38:11.540009500Z"
    }
   },
   "id": "ef9b644a713366da"
  },
  {
   "cell_type": "markdown",
   "source": [
    "## Ivy Functional API"
   ],
   "metadata": {
    "collapsed": false
   },
   "id": "286557d699b105f9"
  },
  {
   "cell_type": "code",
   "execution_count": 10,
   "outputs": [
    {
     "name": "stdout",
     "output_type": "stream",
     "text": [
      "<class 'jaxlib.xla_extension.ArrayImpl'>\n"
     ]
    }
   ],
   "source": [
    "ivy.set_backend(\"jax\")\n",
    "x1, x2 = ivy.array([[1], [2], [3]]), ivy.array([[1, 2, 3]])\n",
    "output = ivy.matmul(x1, x2)\n",
    "print(type(output.to_native()))"
   ],
   "metadata": {
    "collapsed": false,
    "ExecuteTime": {
     "end_time": "2023-12-19T20:41:43.534315700Z",
     "start_time": "2023-12-19T20:41:43.445642100Z"
    }
   },
   "id": "63e34d917b235e9b"
  },
  {
   "cell_type": "code",
   "execution_count": 11,
   "outputs": [
    {
     "name": "stdout",
     "output_type": "stream",
     "text": [
      "<class 'tensorflow.python.framework.ops.EagerTensor'>\n"
     ]
    }
   ],
   "source": [
    "ivy.set_backend(\"tensorflow\")\n",
    "x1, x2 = ivy.array([[1], [2], [3]]), ivy.array([[1, 2, 3]])\n",
    "output = ivy.matmul(x1, x2)\n",
    "print(type(output.to_native()))"
   ],
   "metadata": {
    "collapsed": false,
    "ExecuteTime": {
     "end_time": "2023-12-19T20:42:07.067448700Z",
     "start_time": "2023-12-19T20:42:07.003296900Z"
    }
   },
   "id": "c6c1764e16fcc1b1"
  },
  {
   "cell_type": "code",
   "execution_count": 12,
   "outputs": [
    {
     "name": "stdout",
     "output_type": "stream",
     "text": [
      "<class 'torch.Tensor'>\n"
     ]
    }
   ],
   "source": [
    "ivy.set_backend(\"torch\")\n",
    "x1, x2 = ivy.array([[1], [2], [3]]), ivy.array([[1, 2, 3]])\n",
    "output = ivy.matmul(x1, x2)\n",
    "print(type(output.to_native()))"
   ],
   "metadata": {
    "collapsed": false,
    "ExecuteTime": {
     "end_time": "2023-12-19T20:42:12.612545500Z",
     "start_time": "2023-12-19T20:42:12.461001600Z"
    }
   },
   "id": "86b4e7a45b28ada"
  },
  {
   "cell_type": "code",
   "execution_count": 13,
   "outputs": [
    {
     "name": "stdout",
     "output_type": "stream",
     "text": [
      "<class 'numpy.ndarray'>\n"
     ]
    }
   ],
   "source": [
    "ivy.set_backend(\"numpy\")\n",
    "x1, x2 = ivy.array([[1], [2], [3]]), ivy.array([[1, 2, 3]])\n",
    "output = ivy.matmul(x1, x2)\n",
    "print(type(output.to_native()))"
   ],
   "metadata": {
    "collapsed": false,
    "ExecuteTime": {
     "end_time": "2023-12-19T20:42:16.232621500Z",
     "start_time": "2023-12-19T20:42:16.078491100Z"
    }
   },
   "id": "1f4b26a380ba2c9d"
  },
  {
   "cell_type": "code",
   "execution_count": 15,
   "outputs": [
    {
     "name": "stdout",
     "output_type": "stream",
     "text": [
      "<class 'jaxlib.xla_extension.ArrayImpl'>\n",
      "<class 'ivy.data_classes.array.array.Array'>\n",
      "<class 'torch.Tensor'>\n"
     ]
    }
   ],
   "source": [
    "ivy.set_array_mode(False)\n",
    "\n",
    "ivy.set_backend(\"jax\")\n",
    "x1, x2 = ivy.native_array([[1], [2], [3]]), ivy.native_array([[1, 2, 3]])\n",
    "output = ivy.matmul(x1, x2)\n",
    "print(type(output))\n",
    "\n",
    "ivy.set_backend(\"tensorflow\")\n",
    "x1, x2 = ivy.native_array([[1], [2], [3]]), ivy.native_array([[1, 2, 3]])\n",
    "output = ivy.matmul(x1, x2)\n",
    "print(type(output))\n",
    "\n",
    "ivy.set_backend(\"torch\")\n",
    "x1, x2 = ivy.native_array([[1], [2], [3]]), ivy.native_array([[1, 2, 3]])\n",
    "output = ivy.matmul(x1, x2)\n",
    "print(type(output))\n",
    "\n",
    "ivy.set_array_mode(True)"
   ],
   "metadata": {
    "collapsed": false,
    "ExecuteTime": {
     "end_time": "2023-12-19T20:44:04.126057900Z",
     "start_time": "2023-12-19T20:44:03.426700Z"
    }
   },
   "id": "7e8e73eefae4d63b"
  },
  {
   "cell_type": "markdown",
   "source": [
    "# Unify Code"
   ],
   "metadata": {
    "collapsed": false
   },
   "id": "f71153ba009677eb"
  },
  {
   "cell_type": "code",
   "execution_count": 1,
   "outputs": [],
   "source": [
    "import ivy\n",
    "import torch"
   ],
   "metadata": {
    "collapsed": false,
    "ExecuteTime": {
     "end_time": "2023-12-19T23:16:09.340319700Z",
     "start_time": "2023-12-19T23:16:06.624631900Z"
    }
   },
   "id": "43b0ebe8fe7c0dd4"
  },
  {
   "cell_type": "code",
   "execution_count": 8,
   "outputs": [],
   "source": [
    "def normalize(x):\n",
    "    mean = torch.mean(x)\n",
    "    std = torch.std(x)\n",
    "    return torch.div(torch.sub(x, mean), std)"
   ],
   "metadata": {
    "collapsed": false,
    "ExecuteTime": {
     "end_time": "2023-12-19T23:20:15.573112600Z",
     "start_time": "2023-12-19T23:20:15.532694700Z"
    }
   },
   "id": "9f97306bb0567d8e"
  },
  {
   "cell_type": "code",
   "execution_count": 9,
   "outputs": [],
   "source": [
    "normalize = ivy.unify(normalize, source=\"torch\")"
   ],
   "metadata": {
    "collapsed": false,
    "ExecuteTime": {
     "end_time": "2023-12-19T23:20:16.479906Z",
     "start_time": "2023-12-19T23:20:16.471396Z"
    }
   },
   "id": "43be4ec80c5dd328"
  },
  {
   "cell_type": "code",
   "execution_count": 10,
   "outputs": [],
   "source": [
    "# import the frameworks\n",
    "import numpy as np\n",
    "import jax.numpy as jnp\n",
    "import tensorflow as tf"
   ],
   "metadata": {
    "collapsed": false,
    "ExecuteTime": {
     "end_time": "2023-12-19T23:20:17.415736100Z",
     "start_time": "2023-12-19T23:20:17.403711100Z"
    }
   },
   "id": "20744ada97f87795"
  },
  {
   "cell_type": "code",
   "execution_count": 11,
   "outputs": [
    {
     "ename": "TypeError",
     "evalue": "mean(): argument 'input' (position 1) must be Tensor, not NewNDArray",
     "output_type": "error",
     "traceback": [
      "\u001B[0;31m---------------------------------------------------------------------------\u001B[0m",
      "\u001B[0;31mTypeError\u001B[0m                                 Traceback (most recent call last)",
      "Cell \u001B[0;32mIn[11], line 3\u001B[0m\n\u001B[1;32m      1\u001B[0m x \u001B[38;5;241m=\u001B[39m np\u001B[38;5;241m.\u001B[39mrandom\u001B[38;5;241m.\u001B[39muniform(size\u001B[38;5;241m=\u001B[39m\u001B[38;5;241m10\u001B[39m)\u001B[38;5;241m.\u001B[39mastype(np\u001B[38;5;241m.\u001B[39mfloat32)\n\u001B[1;32m      2\u001B[0m ivy\u001B[38;5;241m.\u001B[39mset_backend(\u001B[38;5;124m\"\u001B[39m\u001B[38;5;124mnumpy\u001B[39m\u001B[38;5;124m\"\u001B[39m)\n\u001B[0;32m----> 3\u001B[0m \u001B[38;5;28mprint\u001B[39m(\u001B[43mnormalize\u001B[49m\u001B[43m(\u001B[49m\u001B[43mx\u001B[49m\u001B[43m)\u001B[49m)\n",
      "File \u001B[0;32mID.pyx:593\u001B[0m, in \u001B[0;36mID.LazyGraph.__call__\u001B[0;34m()\u001B[0m\n",
      "File \u001B[0;32mID.pyx:582\u001B[0m, in \u001B[0;36mID.LazyGraph._initialize\u001B[0;34m()\u001B[0m\n",
      "File \u001B[0;32mDM.pyx:210\u001B[0m, in \u001B[0;36mDM.transpile\u001B[0;34m()\u001B[0m\n",
      "File \u001B[0;32mDM.pyx:63\u001B[0m, in \u001B[0;36mDM._to_target_framework\u001B[0;34m()\u001B[0m\n",
      "File \u001B[0;32mVX.pyx:452\u001B[0m, in \u001B[0;36mVX.trace_graph\u001B[0;34m()\u001B[0m\n",
      "File \u001B[0;32mVX.pyx:485\u001B[0m, in \u001B[0;36mVX._trace_graph\u001B[0;34m()\u001B[0m\n",
      "File \u001B[0;32mVX.pyx:362\u001B[0m, in \u001B[0;36mVX._create_graph\u001B[0;34m()\u001B[0m\n",
      "File \u001B[0;32mVX.pyx:355\u001B[0m, in \u001B[0;36mVX._create_graph\u001B[0;34m()\u001B[0m\n",
      "File \u001B[0;32mID.pyx:163\u001B[0m, in \u001B[0;36mID.Graph.log_all_ops\u001B[0;34m()\u001B[0m\n",
      "File \u001B[0;32mID.pyx:133\u001B[0m, in \u001B[0;36mID.Graph._compute_return\u001B[0;34m()\u001B[0m\n",
      "File \u001B[0;32m~/dev/Olympic/jupyter-notebooks/__transformed_function_zss550iw.py:9\u001B[0m, in \u001B[0;36mivy__normalize\u001B[0;34m(x)\u001B[0m\n",
      "File \u001B[0;32mDD.pyx:144\u001B[0m, in \u001B[0;36mDD.converted_call\u001B[0;34m()\u001B[0m\n",
      "File \u001B[0;32mX.pyx:359\u001B[0m, in \u001B[0;36mX.WrappedCallable.__call__\u001B[0;34m()\u001B[0m\n",
      "File \u001B[0;32mIC.pyx:228\u001B[0m, in \u001B[0;36mIC._wrap_function_for_op_logging._tracing_function\u001B[0;34m()\u001B[0m\n",
      "File \u001B[0;32mIC.pyx:215\u001B[0m, in \u001B[0;36mIC._wrap_function_for_op_logging._tracing_function\u001B[0;34m()\u001B[0m\n",
      "\u001B[0;31mTypeError\u001B[0m: mean(): argument 'input' (position 1) must be Tensor, not NewNDArray"
     ]
    }
   ],
   "source": [
    "x = np.random.uniform(size=10).astype(np.float32)\n",
    "ivy.set_backend(\"numpy\")\n",
    "print(normalize(x))"
   ],
   "metadata": {
    "collapsed": false,
    "ExecuteTime": {
     "end_time": "2023-12-19T23:20:47.838261600Z",
     "start_time": "2023-12-19T23:20:26.247698Z"
    }
   },
   "id": "198358583427f27a"
  },
  {
   "cell_type": "code",
   "execution_count": 14,
   "outputs": [
    {
     "name": "stdout",
     "output_type": "stream",
     "text": [
      "ivy.array([ 0.97889817, -0.31358162, -0.1838607 ,  0.68678105,  0.4830147 ,\n",
      "       -1.90820944,  1.37414706, -1.01904213, -0.6111415 ,  0.51299494])\n"
     ]
    }
   ],
   "source": [
    "# jax\n",
    "x_ = jnp.array(x)\n",
    "ivy.set_backend(\"jax\")\n",
    "print(normalize(x_))"
   ],
   "metadata": {
    "collapsed": false,
    "ExecuteTime": {
     "end_time": "2023-12-19T23:21:50.188708Z",
     "start_time": "2023-12-19T23:21:50.005532600Z"
    }
   },
   "id": "baaa7d8ac2d7799e"
  },
  {
   "cell_type": "code",
   "execution_count": 16,
   "outputs": [
    {
     "name": "stdout",
     "output_type": "stream",
     "text": [
      "ivy.array([ 0.97889823, -0.31358165, -0.18386073,  0.68678117,  0.48301476,\n",
      "       -1.90820968,  1.3741473 , -1.01904213, -0.61114156,  0.512995  ])\n"
     ]
    }
   ],
   "source": [
    "# tensorflow\n",
    "x_ = tf.constant(x)\n",
    "ivy.set_backend(\"tensorflow\")\n",
    "print(normalize(x_))"
   ],
   "metadata": {
    "collapsed": false,
    "ExecuteTime": {
     "end_time": "2023-12-19T23:22:58.375469200Z",
     "start_time": "2023-12-19T23:22:58.172659Z"
    }
   },
   "id": "1ec4515576eb7bdc"
  },
  {
   "cell_type": "code",
   "execution_count": 17,
   "outputs": [
    {
     "name": "stdout",
     "output_type": "stream",
     "text": [
      "ivy.array([ 0.97889805, -0.31358185, -0.18386094,  0.68678093,  0.48301455,\n",
      "       -1.9082098 ,  1.37414706, -1.01904237, -0.6111418 ,  0.51299483])\n"
     ]
    }
   ],
   "source": [
    "# torch\n",
    "x_ = torch.tensor(x)\n",
    "ivy.set_backend(\"torch\")\n",
    "print(normalize(x_))"
   ],
   "metadata": {
    "collapsed": false,
    "ExecuteTime": {
     "end_time": "2023-12-19T23:23:18.088018800Z",
     "start_time": "2023-12-19T23:23:16.937085800Z"
    }
   },
   "id": "ac221ff70975b46f"
  },
  {
   "cell_type": "markdown",
   "source": [
    "# Trace Code"
   ],
   "metadata": {
    "collapsed": false
   },
   "id": "9489e310aeb8d0cf"
  },
  {
   "cell_type": "code",
   "execution_count": 18,
   "outputs": [],
   "source": [
    "import ivy\n",
    "import torch\n",
    "\n",
    "def normalize(x):\n",
    "    mean = torch.mean(x)\n",
    "    std = torch.std(x)\n",
    "    return torch.div(torch.sub(x, mean), std)\n",
    "    \n",
    "normalize = ivy.unify(normalize, source=\"torch\")"
   ],
   "metadata": {
    "collapsed": false,
    "ExecuteTime": {
     "end_time": "2023-12-19T23:26:06.819730100Z",
     "start_time": "2023-12-19T23:26:06.774364100Z"
    }
   },
   "id": "7994c6a4b36b7538"
  },
  {
   "cell_type": "code",
   "execution_count": 19,
   "outputs": [],
   "source": [
    "ivy.set_backend(\"jax\")\n",
    "\n",
    "import jax\n",
    "\n",
    "key = jax.random.PRNGKey(42)\n",
    "x = jax.random.uniform(key, shape=(10,))"
   ],
   "metadata": {
    "collapsed": false,
    "ExecuteTime": {
     "end_time": "2023-12-19T23:27:12.127605500Z",
     "start_time": "2023-12-19T23:27:11.859220500Z"
    }
   },
   "id": "cd253ad2e509a530"
  },
  {
   "cell_type": "code",
   "execution_count": 20,
   "outputs": [
    {
     "data": {
      "text/plain": "ivy.array([ 0.55563939, -0.65538698, -1.14150512,  1.46951973,  1.30220282,\n       -1.14739656, -0.5701794 , -0.91962665,  0.51028997,  0.59644389])"
     },
     "execution_count": 20,
     "metadata": {},
     "output_type": "execute_result"
    }
   ],
   "source": [
    "normalize(x)"
   ],
   "metadata": {
    "collapsed": false,
    "ExecuteTime": {
     "end_time": "2023-12-19T23:27:55.795426500Z",
     "start_time": "2023-12-19T23:27:39.461317100Z"
    }
   },
   "id": "8b0a8ad5be013e5e"
  },
  {
   "cell_type": "code",
   "execution_count": 21,
   "outputs": [],
   "source": [
    "ivy.set_backend(\"jax\")\n",
    "traced = ivy.trace_graph(normalize)"
   ],
   "metadata": {
    "collapsed": false,
    "ExecuteTime": {
     "end_time": "2023-12-19T23:28:40.166118600Z",
     "start_time": "2023-12-19T23:28:40.016511600Z"
    }
   },
   "id": "f78c73a27263a0e1"
  },
  {
   "cell_type": "code",
   "execution_count": 22,
   "outputs": [
    {
     "data": {
      "text/plain": "Array([ 0.5556394 , -0.655387  , -1.1415051 ,  1.4695197 ,  1.3022028 ,\n       -1.1473966 , -0.5701794 , -0.91962665,  0.51028997,  0.5964439 ],      dtype=float32)"
     },
     "execution_count": 22,
     "metadata": {},
     "output_type": "execute_result"
    }
   ],
   "source": [
    "traced(x)"
   ],
   "metadata": {
    "collapsed": false,
    "ExecuteTime": {
     "end_time": "2023-12-19T23:28:44.371107Z",
     "start_time": "2023-12-19T23:28:43.654458300Z"
    }
   },
   "id": "3c38033263df38ea"
  },
  {
   "cell_type": "code",
   "execution_count": 25,
   "outputs": [
    {
     "name": "stdout",
     "output_type": "stream",
     "text": [
      "24.6 ms ± 3.46 ms per loop (mean ± std. dev. of 7 runs, 10 loops each)\n"
     ]
    }
   ],
   "source": [
    "%%timeit\n",
    "normalize(x)"
   ],
   "metadata": {
    "collapsed": false,
    "ExecuteTime": {
     "end_time": "2023-12-19T23:29:34.175456200Z",
     "start_time": "2023-12-19T23:29:32.129895700Z"
    }
   },
   "id": "2358e30fdb3ff825"
  },
  {
   "cell_type": "code",
   "execution_count": 26,
   "outputs": [
    {
     "name": "stdout",
     "output_type": "stream",
     "text": [
      "695 µs ± 3.67 µs per loop (mean ± std. dev. of 7 runs, 1,000 loops each)\n"
     ]
    }
   ],
   "source": [
    "%%timeit\n",
    "traced(x)"
   ],
   "metadata": {
    "collapsed": false,
    "ExecuteTime": {
     "end_time": "2023-12-19T23:29:43.303782500Z",
     "start_time": "2023-12-19T23:29:37.515044200Z"
    }
   },
   "id": "bad2c3ea1a28559b"
  },
  {
   "cell_type": "markdown",
   "source": [
    "# Transpile Code"
   ],
   "metadata": {
    "collapsed": false
   },
   "id": "b40ac31a4426007"
  },
  {
   "cell_type": "code",
   "execution_count": null,
   "outputs": [],
   "source": [],
   "metadata": {
    "collapsed": false
   },
   "id": "9a9448e055ce852d"
  }
 ],
 "metadata": {
  "kernelspec": {
   "display_name": "Python 3",
   "language": "python",
   "name": "python3"
  },
  "language_info": {
   "codemirror_mode": {
    "name": "ipython",
    "version": 2
   },
   "file_extension": ".py",
   "mimetype": "text/x-python",
   "name": "python",
   "nbconvert_exporter": "python",
   "pygments_lexer": "ipython2",
   "version": "2.7.6"
  }
 },
 "nbformat": 4,
 "nbformat_minor": 5
}
